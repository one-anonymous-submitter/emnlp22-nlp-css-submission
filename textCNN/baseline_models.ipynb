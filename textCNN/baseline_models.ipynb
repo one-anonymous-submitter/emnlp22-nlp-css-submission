{
  "nbformat": 4,
  "nbformat_minor": 0,
  "metadata": {
    "colab": {
      "name": "baseline",
      "provenance": [],
      "collapsed_sections": []
    },
    "kernelspec": {
      "name": "python3",
      "display_name": "Python 3"
    },
    "language_info": {
      "name": "python"
    }
  },
  "cells": [
    {
      "cell_type": "code",
      "execution_count": null,
      "metadata": {
        "colab": {
          "base_uri": "https://localhost:8080/"
        },
        "id": "JxZsXtV8mHfy",
        "outputId": "4f970b18-a135-483c-eff1-912071fdc8a7"
      },
      "outputs": [
        {
          "output_type": "stream",
          "name": "stdout",
          "text": [
            "Mounted at /content/drive\n"
          ]
        }
      ],
      "source": [
        "from google.colab import drive\n",
        "drive.mount('/content/drive')"
      ]
    },
    {
      "cell_type": "code",
      "source": [
        "import os\n",
        "import re\n",
        "from tqdm import tqdm\n",
        "import numpy as np\n",
        "import pandas as pd\n",
        "import nltk"
      ],
      "metadata": {
        "id": "SxyEczglmY93"
      },
      "execution_count": null,
      "outputs": []
    },
    {
      "cell_type": "code",
      "source": [
        "data = pd.read_csv(\"/content/drive/MyDrive/samplecoded4.csv\",encoding=\"utf-8\")\n",
        "dataa = pd.read_csv(\"/content/drive/MyDrive/round1c.csv\",encoding=\"utf-8\")\n",
        "dataaa = pd.read_csv(\"/content/drive/MyDrive/round2fixc.csv\",encoding=\"utf-8\")\n",
        "\n",
        "dataa = dataa[[\"ref_id\",\"text_o\",\"effectiveness\",\"risiko\",\"distribution\",\"mandatory\",\"politics\",\"pharma\",\"CT\",\"Child\"]]\n",
        "dataaa = dataaa[[\"ref_id\",\"text_o\",\"effectiveness\",\"risiko\",\"distribution\",\"mandatory\",\"politics\",\"pharma\",\"CT\",\"Child\"]]\n",
        "\n",
        "data = pd.concat([data, dataa],axis=0,ignore_index=True, sort=False)\n",
        "data = pd.concat([data, dataaa],axis=0,ignore_index=True, sort=False)\n",
        "\n",
        "\n",
        "# Remove links\n",
        "http_link_pattern = r'http\\S+'\n",
        "bitly_link_pattern = r'bit.ly/\\S+'\n",
        "data['cleaned'] = data['text_o'].str.replace(http_link_pattern, '')\n",
        "data['cleaned'] = data['text_o'].str.replace(bitly_link_pattern, '')\n",
        "\n",
        "import random\n",
        "random.seed(999)\n",
        "codelist =  [\"effectiveness\",\"risiko\",\"distribution\",\"mandatory\",\"politics\",\"pharma\",\"CT\",\"Child\"]\n",
        "cate = \"mandatory\"\n",
        "\n",
        "data1 = data[data[cate].map(lambda x: x == 1)].reset_index()\n",
        "data0 = data[data[cate].map(lambda x: x == 0)].reset_index()\n",
        "\n",
        "samplelen = len(data1)\n",
        "ranlist = random.sample(range(len(data0)), samplelen)\n",
        "data0 = data0.iloc[ranlist,:]\n",
        "texts = np.array(data0[\"cleaned\"].values.tolist()+data1[\"cleaned\"].values.tolist())\n",
        "labels = np.array(data0[cate].values.tolist()+data1[cate].values.tolist())\n",
        "#print(texts)"
      ],
      "metadata": {
        "colab": {
          "base_uri": "https://localhost:8080/"
        },
        "id": "VcgZczybmOPs",
        "outputId": "3a58c33b-09e8-4db6-ecab-319d890ead33"
      },
      "execution_count": null,
      "outputs": [
        {
          "output_type": "stream",
          "name": "stderr",
          "text": [
            "/usr/local/lib/python3.7/dist-packages/ipykernel_launcher.py:16: FutureWarning: The default value of regex will change from True to False in a future version.\n",
            "  app.launch_new_instance()\n",
            "/usr/local/lib/python3.7/dist-packages/ipykernel_launcher.py:17: FutureWarning: The default value of regex will change from True to False in a future version.\n"
          ]
        }
      ]
    },
    {
      "cell_type": "code",
      "source": [
        "from sklearn.model_selection import train_test_split\n",
        "sentences = texts\n",
        "y = labels\n",
        "sentences_train, sentences_test, y_train, y_test = train_test_split(sentences, y, test_size=0.10, random_state=1000)"
      ],
      "metadata": {
        "id": "lBUsIufin8Xm"
      },
      "execution_count": null,
      "outputs": []
    },
    {
      "cell_type": "code",
      "source": [
        "from sklearn.feature_extraction.text import CountVectorizer\n",
        "vectorizer = CountVectorizer()\n",
        "vectorizer.fit(sentences_train)\n",
        "X_train = vectorizer.transform(sentences_train)\n",
        "X_test  = vectorizer.transform(sentences_test)"
      ],
      "metadata": {
        "id": "fDg_Q6Efomoe"
      },
      "execution_count": null,
      "outputs": []
    },
    {
      "cell_type": "code",
      "source": [
        "from sklearn.linear_model import LogisticRegression\n",
        "classifier = LogisticRegression()\n",
        "classifier.fit(X_train, y_train)\n",
        "score = classifier.score(X_test, y_test)\n",
        "print(\"Accuracy:\", score)"
      ],
      "metadata": {
        "colab": {
          "base_uri": "https://localhost:8080/"
        },
        "id": "C4W1ee9eDHhP",
        "outputId": "e3a56f74-97a4-44dc-a5d6-f94594d44dca"
      },
      "execution_count": null,
      "outputs": [
        {
          "output_type": "stream",
          "name": "stdout",
          "text": [
            "Accuracy: 0.8695652173913043\n"
          ]
        }
      ]
    },
    {
      "cell_type": "code",
      "source": [
        "from sklearn.ensemble import RandomForestClassifier\n",
        "classifier = RandomForestClassifier(n_estimators = 100) \n",
        " \n",
        "# Training the model on the training dataset\n",
        "# fit function is used to train the model using the training sets as parameters\n",
        "classifier.fit(X_train, y_train)\n",
        " \n",
        "# performing predictions on the test dataset\n",
        "y_pred = classifier.predict(X_test)\n",
        " \n",
        "# metrics are used to find accuracy or error\n",
        "from sklearn import metrics \n",
        "print()\n",
        " \n",
        "# using metrics module for accuracy calculation\n",
        "print(\"ACCURACY OF THE MODEL: \", metrics.accuracy_score(y_test, y_pred))"
      ],
      "metadata": {
        "colab": {
          "base_uri": "https://localhost:8080/"
        },
        "id": "NMmkSSpjDVmF",
        "outputId": "758814f5-a067-4fc4-dc5c-8ea24620ffa0"
      },
      "execution_count": null,
      "outputs": [
        {
          "output_type": "stream",
          "name": "stdout",
          "text": [
            "\n",
            "ACCURACY OF THE MODEL:  0.8641304347826086\n"
          ]
        }
      ]
    },
    {
      "cell_type": "code",
      "source": [
        "from sklearn.svm import SVC\n",
        "  \n",
        "# Building a Support Vector Machine on train data\n",
        "svc_model = SVC(C= .1, kernel='linear', gamma= 1)\n",
        "svc_model.fit(X_train, y_train)\n",
        "  \n",
        "prediction = svc_model .predict(X_test)\n",
        "# check the accuracy on the training set\n",
        "#print(svc_model.score(X_train, y_train))\n",
        "print(svc_model.score(X_test, y_test))\n",
        "from sklearn.metrics import confusion_matrix\n",
        "print(\"Confusion Matrix:\\n\",confusion_matrix(prediction,y_test))"
      ],
      "metadata": {
        "colab": {
          "base_uri": "https://localhost:8080/"
        },
        "id": "W3-CENgOEOGy",
        "outputId": "883aae39-583c-4ae3-a47d-b7fc5019e3da"
      },
      "execution_count": null,
      "outputs": [
        {
          "output_type": "stream",
          "name": "stdout",
          "text": [
            "0.8641304347826086\n",
            "Confusion Matrix:\n",
            " [[75 14]\n",
            " [11 84]]\n"
          ]
        }
      ]
    },
    {
      "cell_type": "code",
      "source": [
        ""
      ],
      "metadata": {
        "id": "XOyjselxEm7W"
      },
      "execution_count": null,
      "outputs": []
    },
    {
      "cell_type": "code",
      "source": [
        ""
      ],
      "metadata": {
        "id": "f8_HoGdWE22g"
      },
      "execution_count": null,
      "outputs": []
    }
  ]
}